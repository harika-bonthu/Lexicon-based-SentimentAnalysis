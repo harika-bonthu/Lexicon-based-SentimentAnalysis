{
 "cells": [
  {
   "cell_type": "markdown",
   "metadata": {},
   "source": [
    "# Rule based Sentiment Analysis\n",
    "using TextBlob, VADER, SentiWordNet"
   ]
  },
  {
   "cell_type": "markdown",
   "metadata": {},
   "source": [
    "### Data preprocessing steps\n",
    "1. Cleaning the text\n",
    "2. Tokenization\n",
    "3. Enrichment - POS tagging\n",
    "4. Stopwords removal\n",
    "5. Obtaining the stem words"
   ]
  },
  {
   "cell_type": "markdown",
   "metadata": {},
   "source": [
    "Importing dataset"
   ]
  },
  {
   "cell_type": "code",
   "execution_count": 1,
   "metadata": {},
   "outputs": [
    {
     "data": {
      "text/html": [
       "<div>\n",
       "<style scoped>\n",
       "    .dataframe tbody tr th:only-of-type {\n",
       "        vertical-align: middle;\n",
       "    }\n",
       "\n",
       "    .dataframe tbody tr th {\n",
       "        vertical-align: top;\n",
       "    }\n",
       "\n",
       "    .dataframe thead th {\n",
       "        text-align: right;\n",
       "    }\n",
       "</style>\n",
       "<table border=\"1\" class=\"dataframe\">\n",
       "  <thead>\n",
       "    <tr style=\"text-align: right;\">\n",
       "      <th></th>\n",
       "      <th>Unnamed: 0</th>\n",
       "      <th>review</th>\n",
       "    </tr>\n",
       "  </thead>\n",
       "  <tbody>\n",
       "    <tr>\n",
       "      <th>0</th>\n",
       "      <td>0</td>\n",
       "      <td>I called because my food was cold and not done...</td>\n",
       "    </tr>\n",
       "    <tr>\n",
       "      <th>1</th>\n",
       "      <td>1</td>\n",
       "      <td>OMG, hands down the best pizza I've had from D...</td>\n",
       "    </tr>\n",
       "    <tr>\n",
       "      <th>2</th>\n",
       "      <td>2</td>\n",
       "      <td>This Domino's has the best pizza delivery and ...</td>\n",
       "    </tr>\n",
       "    <tr>\n",
       "      <th>3</th>\n",
       "      <td>3</td>\n",
       "      <td>My Sweetheart &amp; I are very pleased with the qu...</td>\n",
       "    </tr>\n",
       "    <tr>\n",
       "      <th>4</th>\n",
       "      <td>4</td>\n",
       "      <td>I called to place an order, The lady answered ...</td>\n",
       "    </tr>\n",
       "  </tbody>\n",
       "</table>\n",
       "</div>"
      ],
      "text/plain": [
       "   Unnamed: 0                                             review\n",
       "0           0  I called because my food was cold and not done...\n",
       "1           1  OMG, hands down the best pizza I've had from D...\n",
       "2           2  This Domino's has the best pizza delivery and ...\n",
       "3           3  My Sweetheart & I are very pleased with the qu...\n",
       "4           4  I called to place an order, The lady answered ..."
      ]
     },
     "execution_count": 1,
     "metadata": {},
     "output_type": "execute_result"
    }
   ],
   "source": [
    "import pandas as pd\n",
    "\n",
    "# Creating a pandas dataframe from reviews.txt file\n",
    "data = pd.read_csv('reviews.txt', sep='\\t')\n",
    "data.head()"
   ]
  },
  {
   "cell_type": "markdown",
   "metadata": {},
   "source": [
    "Dropping unwanted columns"
   ]
  },
  {
   "cell_type": "code",
   "execution_count": 2,
   "metadata": {},
   "outputs": [
    {
     "data": {
      "text/html": [
       "<div>\n",
       "<style scoped>\n",
       "    .dataframe tbody tr th:only-of-type {\n",
       "        vertical-align: middle;\n",
       "    }\n",
       "\n",
       "    .dataframe tbody tr th {\n",
       "        vertical-align: top;\n",
       "    }\n",
       "\n",
       "    .dataframe thead th {\n",
       "        text-align: right;\n",
       "    }\n",
       "</style>\n",
       "<table border=\"1\" class=\"dataframe\">\n",
       "  <thead>\n",
       "    <tr style=\"text-align: right;\">\n",
       "      <th></th>\n",
       "      <th>review</th>\n",
       "    </tr>\n",
       "  </thead>\n",
       "  <tbody>\n",
       "    <tr>\n",
       "      <th>0</th>\n",
       "      <td>I called because my food was cold and not done...</td>\n",
       "    </tr>\n",
       "    <tr>\n",
       "      <th>1</th>\n",
       "      <td>OMG, hands down the best pizza I've had from D...</td>\n",
       "    </tr>\n",
       "    <tr>\n",
       "      <th>2</th>\n",
       "      <td>This Domino's has the best pizza delivery and ...</td>\n",
       "    </tr>\n",
       "    <tr>\n",
       "      <th>3</th>\n",
       "      <td>My Sweetheart &amp; I are very pleased with the qu...</td>\n",
       "    </tr>\n",
       "    <tr>\n",
       "      <th>4</th>\n",
       "      <td>I called to place an order, The lady answered ...</td>\n",
       "    </tr>\n",
       "  </tbody>\n",
       "</table>\n",
       "</div>"
      ],
      "text/plain": [
       "                                              review\n",
       "0  I called because my food was cold and not done...\n",
       "1  OMG, hands down the best pizza I've had from D...\n",
       "2  This Domino's has the best pizza delivery and ...\n",
       "3  My Sweetheart & I are very pleased with the qu...\n",
       "4  I called to place an order, The lady answered ..."
      ]
     },
     "execution_count": 2,
     "metadata": {},
     "output_type": "execute_result"
    }
   ],
   "source": [
    "# Dropping Unnamed: 0 column\n",
    "mydata = data.drop('Unnamed: 0', axis=1)\n",
    "mydata.head()\n",
    "\n",
    "# mydata = pd.DataFrame(data.review)"
   ]
  },
  {
   "cell_type": "markdown",
   "metadata": {},
   "source": [
    "### Step 1: Cleaning the text"
   ]
  },
  {
   "cell_type": "code",
   "execution_count": 3,
   "metadata": {},
   "outputs": [
    {
     "data": {
      "text/html": [
       "<div>\n",
       "<style scoped>\n",
       "    .dataframe tbody tr th:only-of-type {\n",
       "        vertical-align: middle;\n",
       "    }\n",
       "\n",
       "    .dataframe tbody tr th {\n",
       "        vertical-align: top;\n",
       "    }\n",
       "\n",
       "    .dataframe thead th {\n",
       "        text-align: right;\n",
       "    }\n",
       "</style>\n",
       "<table border=\"1\" class=\"dataframe\">\n",
       "  <thead>\n",
       "    <tr style=\"text-align: right;\">\n",
       "      <th></th>\n",
       "      <th>review</th>\n",
       "      <th>Cleaned Reviews</th>\n",
       "    </tr>\n",
       "  </thead>\n",
       "  <tbody>\n",
       "    <tr>\n",
       "      <th>0</th>\n",
       "      <td>I called because my food was cold and not done...</td>\n",
       "      <td>I called because my food was cold and not done...</td>\n",
       "    </tr>\n",
       "    <tr>\n",
       "      <th>1</th>\n",
       "      <td>OMG, hands down the best pizza I've had from D...</td>\n",
       "      <td>OMG hands down the best pizza I ve had from Do...</td>\n",
       "    </tr>\n",
       "    <tr>\n",
       "      <th>2</th>\n",
       "      <td>This Domino's has the best pizza delivery and ...</td>\n",
       "      <td>This Domino s has the best pizza delivery and ...</td>\n",
       "    </tr>\n",
       "    <tr>\n",
       "      <th>3</th>\n",
       "      <td>My Sweetheart &amp; I are very pleased with the qu...</td>\n",
       "      <td>My Sweetheart I are very pleased with the qual...</td>\n",
       "    </tr>\n",
       "    <tr>\n",
       "      <th>4</th>\n",
       "      <td>I called to place an order, The lady answered ...</td>\n",
       "      <td>I called to place an order The lady answered a...</td>\n",
       "    </tr>\n",
       "  </tbody>\n",
       "</table>\n",
       "</div>"
      ],
      "text/plain": [
       "                                              review  \\\n",
       "0  I called because my food was cold and not done...   \n",
       "1  OMG, hands down the best pizza I've had from D...   \n",
       "2  This Domino's has the best pizza delivery and ...   \n",
       "3  My Sweetheart & I are very pleased with the qu...   \n",
       "4  I called to place an order, The lady answered ...   \n",
       "\n",
       "                                     Cleaned Reviews  \n",
       "0  I called because my food was cold and not done...  \n",
       "1  OMG hands down the best pizza I ve had from Do...  \n",
       "2  This Domino s has the best pizza delivery and ...  \n",
       "3  My Sweetheart I are very pleased with the qual...  \n",
       "4  I called to place an order The lady answered a...  "
      ]
     },
     "execution_count": 3,
     "metadata": {},
     "output_type": "execute_result"
    }
   ],
   "source": [
    "import re\n",
    "\n",
    "# Define a function to clean the text\n",
    "def clean(text):\n",
    "    # Removes all special characters and numericals leaving the alphabets\n",
    "    text = re.sub('[^A-Za-z]+', ' ', text) \n",
    "    return text\n",
    "\n",
    "# Cleaning the text in the review column\n",
    "mydata['Cleaned Reviews'] = mydata['review'].apply(clean)\n",
    "mydata.head()"
   ]
  },
  {
   "cell_type": "markdown",
   "metadata": {},
   "source": [
    "### Steps 2-4: Tokenization, POS tagging, stopwords removal"
   ]
  },
  {
   "cell_type": "code",
   "execution_count": 4,
   "metadata": {},
   "outputs": [
    {
     "name": "stderr",
     "output_type": "stream",
     "text": [
      "[nltk_data] Downloading package punkt to\n",
      "[nltk_data]     C:\\Users\\harika\\AppData\\Roaming\\nltk_data...\n",
      "[nltk_data]   Package punkt is already up-to-date!\n",
      "[nltk_data] Downloading package stopwords to\n",
      "[nltk_data]     C:\\Users\\harika\\AppData\\Roaming\\nltk_data...\n",
      "[nltk_data]   Package stopwords is already up-to-date!\n",
      "[nltk_data] Downloading package wordnet to\n",
      "[nltk_data]     C:\\Users\\harika\\AppData\\Roaming\\nltk_data...\n",
      "[nltk_data]   Package wordnet is already up-to-date!\n"
     ]
    },
    {
     "data": {
      "text/html": [
       "<div>\n",
       "<style scoped>\n",
       "    .dataframe tbody tr th:only-of-type {\n",
       "        vertical-align: middle;\n",
       "    }\n",
       "\n",
       "    .dataframe tbody tr th {\n",
       "        vertical-align: top;\n",
       "    }\n",
       "\n",
       "    .dataframe thead th {\n",
       "        text-align: right;\n",
       "    }\n",
       "</style>\n",
       "<table border=\"1\" class=\"dataframe\">\n",
       "  <thead>\n",
       "    <tr style=\"text-align: right;\">\n",
       "      <th></th>\n",
       "      <th>review</th>\n",
       "      <th>Cleaned Reviews</th>\n",
       "      <th>POS tagged</th>\n",
       "    </tr>\n",
       "  </thead>\n",
       "  <tbody>\n",
       "    <tr>\n",
       "      <th>0</th>\n",
       "      <td>I called because my food was cold and not done...</td>\n",
       "      <td>I called because my food was cold and not done...</td>\n",
       "      <td>[(called, v), (food, n), (cold, a), (done, v),...</td>\n",
       "    </tr>\n",
       "    <tr>\n",
       "      <th>1</th>\n",
       "      <td>OMG, hands down the best pizza I've had from D...</td>\n",
       "      <td>OMG hands down the best pizza I ve had from Do...</td>\n",
       "      <td>[(OMG, n), (hands, v), (best, a), (pizza, n), ...</td>\n",
       "    </tr>\n",
       "    <tr>\n",
       "      <th>2</th>\n",
       "      <td>This Domino's has the best pizza delivery and ...</td>\n",
       "      <td>This Domino s has the best pizza delivery and ...</td>\n",
       "      <td>[(Domino, n), (best, a), (pizza, n), (delivery...</td>\n",
       "    </tr>\n",
       "    <tr>\n",
       "      <th>3</th>\n",
       "      <td>My Sweetheart &amp; I are very pleased with the qu...</td>\n",
       "      <td>My Sweetheart I are very pleased with the qual...</td>\n",
       "      <td>[(Sweetheart, n), (pleased, a), (quality, n), ...</td>\n",
       "    </tr>\n",
       "    <tr>\n",
       "      <th>4</th>\n",
       "      <td>I called to place an order, The lady answered ...</td>\n",
       "      <td>I called to place an order The lady answered a...</td>\n",
       "      <td>[(called, v), (place, v), (order, n), (lady, n...</td>\n",
       "    </tr>\n",
       "  </tbody>\n",
       "</table>\n",
       "</div>"
      ],
      "text/plain": [
       "                                              review  \\\n",
       "0  I called because my food was cold and not done...   \n",
       "1  OMG, hands down the best pizza I've had from D...   \n",
       "2  This Domino's has the best pizza delivery and ...   \n",
       "3  My Sweetheart & I are very pleased with the qu...   \n",
       "4  I called to place an order, The lady answered ...   \n",
       "\n",
       "                                     Cleaned Reviews  \\\n",
       "0  I called because my food was cold and not done...   \n",
       "1  OMG hands down the best pizza I ve had from Do...   \n",
       "2  This Domino s has the best pizza delivery and ...   \n",
       "3  My Sweetheart I are very pleased with the qual...   \n",
       "4  I called to place an order The lady answered a...   \n",
       "\n",
       "                                          POS tagged  \n",
       "0  [(called, v), (food, n), (cold, a), (done, v),...  \n",
       "1  [(OMG, n), (hands, v), (best, a), (pizza, n), ...  \n",
       "2  [(Domino, n), (best, a), (pizza, n), (delivery...  \n",
       "3  [(Sweetheart, n), (pleased, a), (quality, n), ...  \n",
       "4  [(called, v), (place, v), (order, n), (lady, n...  "
      ]
     },
     "execution_count": 4,
     "metadata": {},
     "output_type": "execute_result"
    }
   ],
   "source": [
    "import nltk\n",
    "nltk.download('punkt')\n",
    "from nltk.tokenize import word_tokenize\n",
    "from nltk import pos_tag\n",
    "nltk.download('stopwords')\n",
    "from nltk.corpus import stopwords\n",
    "nltk.download('wordnet')\n",
    "from nltk.corpus import wordnet\n",
    "\n",
    "# POS tagger dictionary\n",
    "pos_dict = {'J':wordnet.ADJ, 'V':wordnet.VERB, 'N':wordnet.NOUN, 'R':wordnet.ADV}\n",
    "\n",
    "def token_stop_pos(text):\n",
    "    tags = pos_tag(word_tokenize(text))\n",
    "    newlist = []\n",
    "    for word, tag in tags:\n",
    "        if word.lower() not in set(stopwords.words('english')):\n",
    "            newlist.append(tuple([word, pos_dict.get(tag[0])]))\n",
    "    return newlist\n",
    "\n",
    "mydata['POS tagged'] = mydata['Cleaned Reviews'].apply(token_stop_pos)\n",
    "mydata.head()\n",
    "# mydata['POS tagged'][0]"
   ]
  },
  {
   "cell_type": "markdown",
   "metadata": {},
   "source": [
    "### Step 5: Obtaining the stem words\n",
    "\n",
    "#### Lemmatization"
   ]
  },
  {
   "cell_type": "code",
   "execution_count": 5,
   "metadata": {
    "scrolled": true
   },
   "outputs": [
    {
     "data": {
      "text/html": [
       "<div>\n",
       "<style scoped>\n",
       "    .dataframe tbody tr th:only-of-type {\n",
       "        vertical-align: middle;\n",
       "    }\n",
       "\n",
       "    .dataframe tbody tr th {\n",
       "        vertical-align: top;\n",
       "    }\n",
       "\n",
       "    .dataframe thead th {\n",
       "        text-align: right;\n",
       "    }\n",
       "</style>\n",
       "<table border=\"1\" class=\"dataframe\">\n",
       "  <thead>\n",
       "    <tr style=\"text-align: right;\">\n",
       "      <th></th>\n",
       "      <th>review</th>\n",
       "      <th>Cleaned Reviews</th>\n",
       "      <th>POS tagged</th>\n",
       "      <th>Lemma</th>\n",
       "    </tr>\n",
       "  </thead>\n",
       "  <tbody>\n",
       "    <tr>\n",
       "      <th>0</th>\n",
       "      <td>I called because my food was cold and not done...</td>\n",
       "      <td>I called because my food was cold and not done...</td>\n",
       "      <td>[(called, v), (food, n), (cold, a), (done, v),...</td>\n",
       "      <td>call food cold do right miss item call answe...</td>\n",
       "    </tr>\n",
       "    <tr>\n",
       "      <th>1</th>\n",
       "      <td>OMG, hands down the best pizza I've had from D...</td>\n",
       "      <td>OMG hands down the best pizza I ve had from Do...</td>\n",
       "      <td>[(OMG, n), (hands, v), (best, a), (pizza, n), ...</td>\n",
       "      <td>OMG hand best pizza Domino pizza Southaven M...</td>\n",
       "    </tr>\n",
       "    <tr>\n",
       "      <th>2</th>\n",
       "      <td>This Domino's has the best pizza delivery and ...</td>\n",
       "      <td>This Domino s has the best pizza delivery and ...</td>\n",
       "      <td>[(Domino, n), (best, a), (pizza, n), (delivery...</td>\n",
       "      <td>Domino best pizza delivery customer service ...</td>\n",
       "    </tr>\n",
       "    <tr>\n",
       "      <th>3</th>\n",
       "      <td>My Sweetheart &amp; I are very pleased with the qu...</td>\n",
       "      <td>My Sweetheart I are very pleased with the qual...</td>\n",
       "      <td>[(Sweetheart, n), (pleased, a), (quality, n), ...</td>\n",
       "      <td>Sweetheart pleased quality service excellent...</td>\n",
       "    </tr>\n",
       "    <tr>\n",
       "      <th>4</th>\n",
       "      <td>I called to place an order, The lady answered ...</td>\n",
       "      <td>I called to place an order The lady answered a...</td>\n",
       "      <td>[(called, v), (place, v), (order, n), (lady, n...</td>\n",
       "      <td>call place order lady answer already know na...</td>\n",
       "    </tr>\n",
       "  </tbody>\n",
       "</table>\n",
       "</div>"
      ],
      "text/plain": [
       "                                              review  \\\n",
       "0  I called because my food was cold and not done...   \n",
       "1  OMG, hands down the best pizza I've had from D...   \n",
       "2  This Domino's has the best pizza delivery and ...   \n",
       "3  My Sweetheart & I are very pleased with the qu...   \n",
       "4  I called to place an order, The lady answered ...   \n",
       "\n",
       "                                     Cleaned Reviews  \\\n",
       "0  I called because my food was cold and not done...   \n",
       "1  OMG hands down the best pizza I ve had from Do...   \n",
       "2  This Domino s has the best pizza delivery and ...   \n",
       "3  My Sweetheart I are very pleased with the qual...   \n",
       "4  I called to place an order The lady answered a...   \n",
       "\n",
       "                                          POS tagged  \\\n",
       "0  [(called, v), (food, n), (cold, a), (done, v),...   \n",
       "1  [(OMG, n), (hands, v), (best, a), (pizza, n), ...   \n",
       "2  [(Domino, n), (best, a), (pizza, n), (delivery...   \n",
       "3  [(Sweetheart, n), (pleased, a), (quality, n), ...   \n",
       "4  [(called, v), (place, v), (order, n), (lady, n...   \n",
       "\n",
       "                                               Lemma  \n",
       "0    call food cold do right miss item call answe...  \n",
       "1    OMG hand best pizza Domino pizza Southaven M...  \n",
       "2    Domino best pizza delivery customer service ...  \n",
       "3    Sweetheart pleased quality service excellent...  \n",
       "4    call place order lady answer already know na...  "
      ]
     },
     "execution_count": 5,
     "metadata": {},
     "output_type": "execute_result"
    }
   ],
   "source": [
    "from nltk.stem import WordNetLemmatizer\n",
    "wordnet_lemmatizer = WordNetLemmatizer()\n",
    "\n",
    "def lemmatize(pos_data):\n",
    "    lemma_rew = \" \"\n",
    "    for word, pos in pos_data:\n",
    "        if not pos: \n",
    "            lemma = word\n",
    "            lemma_rew = lemma_rew + \" \" + lemma\n",
    "        else:  \n",
    "            lemma = wordnet_lemmatizer.lemmatize(word, pos=pos)\n",
    "            lemma_rew = lemma_rew + \" \" + lemma\n",
    "    return lemma_rew\n",
    "    \n",
    "mydata['Lemma'] = mydata['POS tagged'].apply(lemmatize)\n",
    "mydata.head()\n",
    "# print(mydata['review'][239] + \"\\n\" + mydata['Lemma'][239])"
   ]
  },
  {
   "cell_type": "code",
   "execution_count": 6,
   "metadata": {},
   "outputs": [
    {
     "data": {
      "text/html": [
       "<div>\n",
       "<style scoped>\n",
       "    .dataframe tbody tr th:only-of-type {\n",
       "        vertical-align: middle;\n",
       "    }\n",
       "\n",
       "    .dataframe tbody tr th {\n",
       "        vertical-align: top;\n",
       "    }\n",
       "\n",
       "    .dataframe thead th {\n",
       "        text-align: right;\n",
       "    }\n",
       "</style>\n",
       "<table border=\"1\" class=\"dataframe\">\n",
       "  <thead>\n",
       "    <tr style=\"text-align: right;\">\n",
       "      <th></th>\n",
       "      <th>review</th>\n",
       "      <th>Lemma</th>\n",
       "    </tr>\n",
       "  </thead>\n",
       "  <tbody>\n",
       "    <tr>\n",
       "      <th>0</th>\n",
       "      <td>I called because my food was cold and not done...</td>\n",
       "      <td>call food cold do right miss item call answe...</td>\n",
       "    </tr>\n",
       "    <tr>\n",
       "      <th>1</th>\n",
       "      <td>OMG, hands down the best pizza I've had from D...</td>\n",
       "      <td>OMG hand best pizza Domino pizza Southaven M...</td>\n",
       "    </tr>\n",
       "    <tr>\n",
       "      <th>2</th>\n",
       "      <td>This Domino's has the best pizza delivery and ...</td>\n",
       "      <td>Domino best pizza delivery customer service ...</td>\n",
       "    </tr>\n",
       "    <tr>\n",
       "      <th>3</th>\n",
       "      <td>My Sweetheart &amp; I are very pleased with the qu...</td>\n",
       "      <td>Sweetheart pleased quality service excellent...</td>\n",
       "    </tr>\n",
       "    <tr>\n",
       "      <th>4</th>\n",
       "      <td>I called to place an order, The lady answered ...</td>\n",
       "      <td>call place order lady answer already know na...</td>\n",
       "    </tr>\n",
       "    <tr>\n",
       "      <th>...</th>\n",
       "      <td>...</td>\n",
       "      <td>...</td>\n",
       "    </tr>\n",
       "    <tr>\n",
       "      <th>235</th>\n",
       "      <td>Good quality and cheap pizzas. They offer wide...</td>\n",
       "      <td>Good quality cheap pizza offer wide range pi...</td>\n",
       "    </tr>\n",
       "    <tr>\n",
       "      <th>236</th>\n",
       "      <td>Every time I order online they forget to put m...</td>\n",
       "      <td>Every time order online forget put olive ord...</td>\n",
       "    </tr>\n",
       "    <tr>\n",
       "      <th>237</th>\n",
       "      <td>Store: SHOP NO. 17 &amp; 18, A WING, HALLMARK, VAS...</td>\n",
       "      <td>Store SHOP WING HALLMARK VASANT OSCAR LBS MA...</td>\n",
       "    </tr>\n",
       "    <tr>\n",
       "      <th>238</th>\n",
       "      <td>Chicken topping was so good, I could not sit s...</td>\n",
       "      <td>Chicken topping good could sit still excelle...</td>\n",
       "    </tr>\n",
       "    <tr>\n",
       "      <th>239</th>\n",
       "      <td>People reading this don't place an order in Do...</td>\n",
       "      <td>People read place order Domino still want pl...</td>\n",
       "    </tr>\n",
       "  </tbody>\n",
       "</table>\n",
       "<p>240 rows × 2 columns</p>\n",
       "</div>"
      ],
      "text/plain": [
       "                                                review  \\\n",
       "0    I called because my food was cold and not done...   \n",
       "1    OMG, hands down the best pizza I've had from D...   \n",
       "2    This Domino's has the best pizza delivery and ...   \n",
       "3    My Sweetheart & I are very pleased with the qu...   \n",
       "4    I called to place an order, The lady answered ...   \n",
       "..                                                 ...   \n",
       "235  Good quality and cheap pizzas. They offer wide...   \n",
       "236  Every time I order online they forget to put m...   \n",
       "237  Store: SHOP NO. 17 & 18, A WING, HALLMARK, VAS...   \n",
       "238  Chicken topping was so good, I could not sit s...   \n",
       "239  People reading this don't place an order in Do...   \n",
       "\n",
       "                                                 Lemma  \n",
       "0      call food cold do right miss item call answe...  \n",
       "1      OMG hand best pizza Domino pizza Southaven M...  \n",
       "2      Domino best pizza delivery customer service ...  \n",
       "3      Sweetheart pleased quality service excellent...  \n",
       "4      call place order lady answer already know na...  \n",
       "..                                                 ...  \n",
       "235    Good quality cheap pizza offer wide range pi...  \n",
       "236    Every time order online forget put olive ord...  \n",
       "237    Store SHOP WING HALLMARK VASANT OSCAR LBS MA...  \n",
       "238    Chicken topping good could sit still excelle...  \n",
       "239    People read place order Domino still want pl...  \n",
       "\n",
       "[240 rows x 2 columns]"
      ]
     },
     "execution_count": 6,
     "metadata": {},
     "output_type": "execute_result"
    }
   ],
   "source": [
    "mydata[['review', 'Lemma']]"
   ]
  },
  {
   "cell_type": "markdown",
   "metadata": {},
   "source": [
    "# Sentiment analysis using TextBlob"
   ]
  },
  {
   "cell_type": "code",
   "execution_count": 7,
   "metadata": {},
   "outputs": [],
   "source": [
    "from textblob import TextBlob\n",
    "\n",
    "# function to calculate subjectivity \n",
    "def getSubjectivity(review):\n",
    "    return TextBlob(review).sentiment.subjectivity\n",
    "\n",
    "# function to calculate polarity\n",
    "def getPolarity(review):\n",
    "    return TextBlob(review).sentiment.polarity\n",
    "\n",
    "# function to analyze the reviews\n",
    "def analysis(score):\n",
    "    if score < 0:\n",
    "        return 'Negative'\n",
    "    elif score == 0:\n",
    "        return 'Neutral'\n",
    "    else:\n",
    "        return 'Positive'"
   ]
  },
  {
   "cell_type": "code",
   "execution_count": 8,
   "metadata": {},
   "outputs": [],
   "source": [
    "fin_data = pd.DataFrame(mydata[['review', 'Lemma']])"
   ]
  },
  {
   "cell_type": "code",
   "execution_count": 9,
   "metadata": {
    "scrolled": true
   },
   "outputs": [
    {
     "data": {
      "text/html": [
       "<div>\n",
       "<style scoped>\n",
       "    .dataframe tbody tr th:only-of-type {\n",
       "        vertical-align: middle;\n",
       "    }\n",
       "\n",
       "    .dataframe tbody tr th {\n",
       "        vertical-align: top;\n",
       "    }\n",
       "\n",
       "    .dataframe thead th {\n",
       "        text-align: right;\n",
       "    }\n",
       "</style>\n",
       "<table border=\"1\" class=\"dataframe\">\n",
       "  <thead>\n",
       "    <tr style=\"text-align: right;\">\n",
       "      <th></th>\n",
       "      <th>review</th>\n",
       "      <th>Lemma</th>\n",
       "      <th>Polarity</th>\n",
       "      <th>Analysis</th>\n",
       "    </tr>\n",
       "  </thead>\n",
       "  <tbody>\n",
       "    <tr>\n",
       "      <th>0</th>\n",
       "      <td>I called because my food was cold and not done...</td>\n",
       "      <td>call food cold do right miss item call answe...</td>\n",
       "      <td>0.217143</td>\n",
       "      <td>Positive</td>\n",
       "    </tr>\n",
       "    <tr>\n",
       "      <th>1</th>\n",
       "      <td>OMG, hands down the best pizza I've had from D...</td>\n",
       "      <td>OMG hand best pizza Domino pizza Southaven M...</td>\n",
       "      <td>0.538889</td>\n",
       "      <td>Positive</td>\n",
       "    </tr>\n",
       "    <tr>\n",
       "      <th>2</th>\n",
       "      <td>This Domino's has the best pizza delivery and ...</td>\n",
       "      <td>Domino best pizza delivery customer service ...</td>\n",
       "      <td>0.355000</td>\n",
       "      <td>Positive</td>\n",
       "    </tr>\n",
       "    <tr>\n",
       "      <th>3</th>\n",
       "      <td>My Sweetheart &amp; I are very pleased with the qu...</td>\n",
       "      <td>Sweetheart pleased quality service excellent...</td>\n",
       "      <td>0.238542</td>\n",
       "      <td>Positive</td>\n",
       "    </tr>\n",
       "    <tr>\n",
       "      <th>4</th>\n",
       "      <td>I called to place an order, The lady answered ...</td>\n",
       "      <td>call place order lady answer already know na...</td>\n",
       "      <td>0.650000</td>\n",
       "      <td>Positive</td>\n",
       "    </tr>\n",
       "  </tbody>\n",
       "</table>\n",
       "</div>"
      ],
      "text/plain": [
       "                                              review  \\\n",
       "0  I called because my food was cold and not done...   \n",
       "1  OMG, hands down the best pizza I've had from D...   \n",
       "2  This Domino's has the best pizza delivery and ...   \n",
       "3  My Sweetheart & I are very pleased with the qu...   \n",
       "4  I called to place an order, The lady answered ...   \n",
       "\n",
       "                                               Lemma  Polarity  Analysis  \n",
       "0    call food cold do right miss item call answe...  0.217143  Positive  \n",
       "1    OMG hand best pizza Domino pizza Southaven M...  0.538889  Positive  \n",
       "2    Domino best pizza delivery customer service ...  0.355000  Positive  \n",
       "3    Sweetheart pleased quality service excellent...  0.238542  Positive  \n",
       "4    call place order lady answer already know na...  0.650000  Positive  "
      ]
     },
     "execution_count": 9,
     "metadata": {},
     "output_type": "execute_result"
    }
   ],
   "source": [
    "# fin_data['Subjectivity'] = fin_data['Lemma'].apply(getSubjectivity) \n",
    "fin_data['Polarity'] = fin_data['Lemma'].apply(getPolarity) \n",
    "fin_data['Analysis'] = fin_data['Polarity'].apply(analysis)\n",
    "fin_data.head()"
   ]
  },
  {
   "cell_type": "code",
   "execution_count": 26,
   "metadata": {},
   "outputs": [
    {
     "data": {
      "text/plain": [
       "Negative    119\n",
       "Positive    114\n",
       "Neutral       7\n",
       "Name: Analysis, dtype: int64"
      ]
     },
     "execution_count": 26,
     "metadata": {},
     "output_type": "execute_result"
    }
   ],
   "source": [
    "tb_counts = fin_data.Analysis.value_counts()\n",
    "tb_counts"
   ]
  },
  {
   "cell_type": "code",
   "execution_count": 27,
   "metadata": {},
   "outputs": [
    {
     "data": {
      "text/plain": [
       "([<matplotlib.patches.Wedge at 0x183c71c6388>,\n",
       "  <matplotlib.patches.Wedge at 0x183c718e948>,\n",
       "  <matplotlib.patches.Wedge at 0x183c71ca148>],\n",
       " [Text(0.014398541397730972, 1.099905760511153, 'Negative'),\n",
       "  Text(-0.11498130276606976, -1.093974085622789, 'Positive'),\n",
       "  Text(1.3443366507319228, -0.12352720145327041, 'Neutral')],\n",
       " [Text(0.007853749853307801, 0.599948596642447, '49.6%'),\n",
       "  Text(-0.06271707423603803, -0.5967131376124304, '47.5%'),\n",
       "  Text(0.8464341874978771, -0.07777638610020729, '2.9%')])"
      ]
     },
     "execution_count": 27,
     "metadata": {},
     "output_type": "execute_result"
    },
    {
     "data": {
      "image/png": "[encoded data removed]",
      "text/plain": [
       "<Figure size 720x504 with 1 Axes>"
      ]
     },
     "metadata": {},
     "output_type": "display_data"
    }
   ],
   "source": [
    "import matplotlib.pyplot as plt\n",
    "%matplotlib inline\n",
    "\n",
    "tb_count= fin_data.Analysis.value_counts()\n",
    "plt.figure(figsize=(10, 7))\n",
    "plt.pie(tb_counts.values, labels = tb_counts.index, explode = (0, 0, 0.25), autopct='%1.1f%%', shadow=False)\n",
    "# plt.legend()"
   ]
  },
  {
   "cell_type": "markdown",
   "metadata": {},
   "source": [
    "# Sentiment analysis using VADER"
   ]
  },
  {
   "cell_type": "code",
   "execution_count": 18,
   "metadata": {},
   "outputs": [],
   "source": [
    "from vaderSentiment.vaderSentiment import SentimentIntensityAnalyzer\n",
    "analyzer = SentimentIntensityAnalyzer()\n",
    "\n",
    "# function to calculate vader sentiment  \n",
    "def vadersentimentanalysis(review):\n",
    "    vs = analyzer.polarity_scores(review)\n",
    "    return vs['compound']\n",
    "\n",
    "fin_data['Vader Sentiment'] = fin_data['Lemma'].apply(vadersentimentanalysis)"
   ]
  },
  {
   "cell_type": "code",
   "execution_count": 19,
   "metadata": {},
   "outputs": [
    {
     "data": {
      "text/html": [
       "<div>\n",
       "<style scoped>\n",
       "    .dataframe tbody tr th:only-of-type {\n",
       "        vertical-align: middle;\n",
       "    }\n",
       "\n",
       "    .dataframe tbody tr th {\n",
       "        vertical-align: top;\n",
       "    }\n",
       "\n",
       "    .dataframe thead th {\n",
       "        text-align: right;\n",
       "    }\n",
       "</style>\n",
       "<table border=\"1\" class=\"dataframe\">\n",
       "  <thead>\n",
       "    <tr style=\"text-align: right;\">\n",
       "      <th></th>\n",
       "      <th>review</th>\n",
       "      <th>Lemma</th>\n",
       "      <th>Polarity</th>\n",
       "      <th>Analysis</th>\n",
       "      <th>Vader Sentiment</th>\n",
       "      <th>Vader Analysis</th>\n",
       "      <th>SWN analysis</th>\n",
       "    </tr>\n",
       "  </thead>\n",
       "  <tbody>\n",
       "    <tr>\n",
       "      <th>0</th>\n",
       "      <td>I called because my food was cold and not done...</td>\n",
       "      <td>call food cold do right miss item call answe...</td>\n",
       "      <td>0.217143</td>\n",
       "      <td>Positive</td>\n",
       "      <td>0.7579</td>\n",
       "      <td>Positive</td>\n",
       "      <td>Positive</td>\n",
       "    </tr>\n",
       "    <tr>\n",
       "      <th>1</th>\n",
       "      <td>OMG, hands down the best pizza I've had from D...</td>\n",
       "      <td>OMG hand best pizza Domino pizza Southaven M...</td>\n",
       "      <td>0.538889</td>\n",
       "      <td>Positive</td>\n",
       "      <td>0.9312</td>\n",
       "      <td>Positive</td>\n",
       "      <td>Positive</td>\n",
       "    </tr>\n",
       "    <tr>\n",
       "      <th>2</th>\n",
       "      <td>This Domino's has the best pizza delivery and ...</td>\n",
       "      <td>Domino best pizza delivery customer service ...</td>\n",
       "      <td>0.355000</td>\n",
       "      <td>Positive</td>\n",
       "      <td>0.9552</td>\n",
       "      <td>Positive</td>\n",
       "      <td>Positive</td>\n",
       "    </tr>\n",
       "    <tr>\n",
       "      <th>3</th>\n",
       "      <td>My Sweetheart &amp; I are very pleased with the qu...</td>\n",
       "      <td>Sweetheart pleased quality service excellent...</td>\n",
       "      <td>0.238542</td>\n",
       "      <td>Positive</td>\n",
       "      <td>0.9716</td>\n",
       "      <td>Positive</td>\n",
       "      <td>Positive</td>\n",
       "    </tr>\n",
       "    <tr>\n",
       "      <th>4</th>\n",
       "      <td>I called to place an order, The lady answered ...</td>\n",
       "      <td>call place order lady answer already know na...</td>\n",
       "      <td>0.650000</td>\n",
       "      <td>Positive</td>\n",
       "      <td>0.8091</td>\n",
       "      <td>Positive</td>\n",
       "      <td>Positive</td>\n",
       "    </tr>\n",
       "  </tbody>\n",
       "</table>\n",
       "</div>"
      ],
      "text/plain": [
       "                                              review  \\\n",
       "0  I called because my food was cold and not done...   \n",
       "1  OMG, hands down the best pizza I've had from D...   \n",
       "2  This Domino's has the best pizza delivery and ...   \n",
       "3  My Sweetheart & I are very pleased with the qu...   \n",
       "4  I called to place an order, The lady answered ...   \n",
       "\n",
       "                                               Lemma  Polarity  Analysis  \\\n",
       "0    call food cold do right miss item call answe...  0.217143  Positive   \n",
       "1    OMG hand best pizza Domino pizza Southaven M...  0.538889  Positive   \n",
       "2    Domino best pizza delivery customer service ...  0.355000  Positive   \n",
       "3    Sweetheart pleased quality service excellent...  0.238542  Positive   \n",
       "4    call place order lady answer already know na...  0.650000  Positive   \n",
       "\n",
       "   Vader Sentiment Vader Analysis SWN analysis  \n",
       "0           0.7579       Positive     Positive  \n",
       "1           0.9312       Positive     Positive  \n",
       "2           0.9552       Positive     Positive  \n",
       "3           0.9716       Positive     Positive  \n",
       "4           0.8091       Positive     Positive  "
      ]
     },
     "execution_count": 19,
     "metadata": {},
     "output_type": "execute_result"
    }
   ],
   "source": [
    "# function to analyse \n",
    "def vader_analysis(compound):\n",
    "    if compound >= 0.5:\n",
    "        return 'Positive'\n",
    "    elif compound <= -0.5 :\n",
    "        return 'Negative'\n",
    "    else:\n",
    "        return 'Neutral'\n",
    "    \n",
    "fin_data['Vader Analysis'] = fin_data['Vader Sentiment'].apply(vader_analysis)\n",
    "fin_data.head()"
   ]
  },
  {
   "cell_type": "code",
   "execution_count": 20,
   "metadata": {},
   "outputs": [
    {
     "data": {
      "text/plain": [
       "Neutral     93\n",
       "Positive    82\n",
       "Negative    65\n",
       "Name: Vader Analysis, dtype: int64"
      ]
     },
     "execution_count": 20,
     "metadata": {},
     "output_type": "execute_result"
    }
   ],
   "source": [
    "vader_counts = fin_data['Vader Analysis'].value_counts()\n",
    "vader_counts"
   ]
  },
  {
   "cell_type": "code",
   "execution_count": 21,
   "metadata": {},
   "outputs": [
    {
     "data": {
      "text/plain": [
       "([<matplotlib.patches.Wedge at 0x183bcef8d88>,\n",
       "  <matplotlib.patches.Wedge at 0x183bcefaec8>,\n",
       "  <matplotlib.patches.Wedge at 0x183bcefca08>],\n",
       " [Text(0.41534051065610117, 1.1258295875521878, 'Neutral'),\n",
       "  Text(-1.0269384962128683, -0.3942046739906225, 'Positive'),\n",
       "  Text(0.7252803707995565, -0.8270238108620924, 'Negative')],\n",
       " [Text(0.24228196454939235, 0.6567339260721095, '38.7%'),\n",
       "  Text(-0.5601482706615645, -0.21502073126761223, '34.2%'),\n",
       "  Text(0.3956074749815762, -0.45110389683386853, '27.1%')])"
      ]
     },
     "execution_count": 21,
     "metadata": {},
     "output_type": "execute_result"
    },
    {
     "data": {
      "image/png": "[encoded data removed]",
      "text/plain": [
       "<Figure size 720x504 with 1 Axes>"
      ]
     },
     "metadata": {},
     "output_type": "display_data"
    }
   ],
   "source": [
    "vader_counts= fin_data['Vader Analysis'].value_counts()\n",
    "plt.figure(figsize=(10, 7))\n",
    "plt.pie(vader_counts.values, labels = vader_counts.index, explode = (0.1, 0, 0), autopct='%1.1f%%', shadow=False)\n",
    "# plt.legend()"
   ]
  },
  {
   "cell_type": "markdown",
   "metadata": {},
   "source": [
    "# Sentiment Analysis using SentiWordNet"
   ]
  },
  {
   "cell_type": "code",
   "execution_count": 22,
   "metadata": {},
   "outputs": [
    {
     "name": "stderr",
     "output_type": "stream",
     "text": [
      "[nltk_data] Downloading package sentiwordnet to\n",
      "[nltk_data]     C:\\Users\\harika\\AppData\\Roaming\\nltk_data...\n",
      "[nltk_data]   Package sentiwordnet is already up-to-date!\n"
     ]
    },
    {
     "data": {
      "text/html": [
       "<div>\n",
       "<style scoped>\n",
       "    .dataframe tbody tr th:only-of-type {\n",
       "        vertical-align: middle;\n",
       "    }\n",
       "\n",
       "    .dataframe tbody tr th {\n",
       "        vertical-align: top;\n",
       "    }\n",
       "\n",
       "    .dataframe thead th {\n",
       "        text-align: right;\n",
       "    }\n",
       "</style>\n",
       "<table border=\"1\" class=\"dataframe\">\n",
       "  <thead>\n",
       "    <tr style=\"text-align: right;\">\n",
       "      <th></th>\n",
       "      <th>review</th>\n",
       "      <th>Lemma</th>\n",
       "      <th>Polarity</th>\n",
       "      <th>Analysis</th>\n",
       "      <th>Vader Sentiment</th>\n",
       "      <th>Vader Analysis</th>\n",
       "      <th>SWN analysis</th>\n",
       "    </tr>\n",
       "  </thead>\n",
       "  <tbody>\n",
       "    <tr>\n",
       "      <th>0</th>\n",
       "      <td>I called because my food was cold and not done...</td>\n",
       "      <td>call food cold do right miss item call answe...</td>\n",
       "      <td>0.217143</td>\n",
       "      <td>Positive</td>\n",
       "      <td>0.7579</td>\n",
       "      <td>Positive</td>\n",
       "      <td>Positive</td>\n",
       "    </tr>\n",
       "    <tr>\n",
       "      <th>1</th>\n",
       "      <td>OMG, hands down the best pizza I've had from D...</td>\n",
       "      <td>OMG hand best pizza Domino pizza Southaven M...</td>\n",
       "      <td>0.538889</td>\n",
       "      <td>Positive</td>\n",
       "      <td>0.9312</td>\n",
       "      <td>Positive</td>\n",
       "      <td>Positive</td>\n",
       "    </tr>\n",
       "    <tr>\n",
       "      <th>2</th>\n",
       "      <td>This Domino's has the best pizza delivery and ...</td>\n",
       "      <td>Domino best pizza delivery customer service ...</td>\n",
       "      <td>0.355000</td>\n",
       "      <td>Positive</td>\n",
       "      <td>0.9552</td>\n",
       "      <td>Positive</td>\n",
       "      <td>Positive</td>\n",
       "    </tr>\n",
       "    <tr>\n",
       "      <th>3</th>\n",
       "      <td>My Sweetheart &amp; I are very pleased with the qu...</td>\n",
       "      <td>Sweetheart pleased quality service excellent...</td>\n",
       "      <td>0.238542</td>\n",
       "      <td>Positive</td>\n",
       "      <td>0.9716</td>\n",
       "      <td>Positive</td>\n",
       "      <td>Positive</td>\n",
       "    </tr>\n",
       "    <tr>\n",
       "      <th>4</th>\n",
       "      <td>I called to place an order, The lady answered ...</td>\n",
       "      <td>call place order lady answer already know na...</td>\n",
       "      <td>0.650000</td>\n",
       "      <td>Positive</td>\n",
       "      <td>0.8091</td>\n",
       "      <td>Positive</td>\n",
       "      <td>Positive</td>\n",
       "    </tr>\n",
       "  </tbody>\n",
       "</table>\n",
       "</div>"
      ],
      "text/plain": [
       "                                              review  \\\n",
       "0  I called because my food was cold and not done...   \n",
       "1  OMG, hands down the best pizza I've had from D...   \n",
       "2  This Domino's has the best pizza delivery and ...   \n",
       "3  My Sweetheart & I are very pleased with the qu...   \n",
       "4  I called to place an order, The lady answered ...   \n",
       "\n",
       "                                               Lemma  Polarity  Analysis  \\\n",
       "0    call food cold do right miss item call answe...  0.217143  Positive   \n",
       "1    OMG hand best pizza Domino pizza Southaven M...  0.538889  Positive   \n",
       "2    Domino best pizza delivery customer service ...  0.355000  Positive   \n",
       "3    Sweetheart pleased quality service excellent...  0.238542  Positive   \n",
       "4    call place order lady answer already know na...  0.650000  Positive   \n",
       "\n",
       "   Vader Sentiment Vader Analysis SWN analysis  \n",
       "0           0.7579       Positive     Positive  \n",
       "1           0.9312       Positive     Positive  \n",
       "2           0.9552       Positive     Positive  \n",
       "3           0.9716       Positive     Positive  \n",
       "4           0.8091       Positive     Positive  "
      ]
     },
     "execution_count": 22,
     "metadata": {},
     "output_type": "execute_result"
    }
   ],
   "source": [
    "nltk.download('sentiwordnet')\n",
    "from nltk.corpus import sentiwordnet as swn\n",
    "\n",
    "def sentiwordnetanalysis(pos_data):\n",
    "    sentiment = 0\n",
    "    tokens_count = 0\n",
    "    for word, pos in pos_data:\n",
    "        if not pos:\n",
    "            continue\n",
    "        lemma = wordnet_lemmatizer.lemmatize(word, pos=pos)\n",
    "        if not lemma:\n",
    "            continue\n",
    "        \n",
    "        synsets = wordnet.synsets(lemma, pos=pos)\n",
    "        if not synsets:\n",
    "            continue\n",
    "\n",
    "        # Take the first sense, the most common\n",
    "        synset = synsets[0]\n",
    "        swn_synset = swn.senti_synset(synset.name())\n",
    "        sentiment += swn_synset.pos_score() - swn_synset.neg_score()\n",
    "        tokens_count += 1\n",
    "        # print(swn_synset.pos_score(),swn_synset.neg_score(),swn_synset.obj_score())\n",
    "    if not tokens_count:\n",
    "        return 0\n",
    "    if sentiment>0:\n",
    "        return \"Positive\"\n",
    "    if sentiment==0:\n",
    "        return \"Neutral\"\n",
    "    else:\n",
    "        return \"Negative\"\n",
    "\n",
    "fin_data['SWN analysis'] = mydata['POS tagged'].apply(sentiwordnetanalysis)\n",
    "fin_data.head()"
   ]
  },
  {
   "cell_type": "code",
   "execution_count": 23,
   "metadata": {},
   "outputs": [
    {
     "data": {
      "text/plain": [
       "Negative    135\n",
       "Positive    100\n",
       "Neutral       5\n",
       "Name: SWN analysis, dtype: int64"
      ]
     },
     "execution_count": 23,
     "metadata": {},
     "output_type": "execute_result"
    }
   ],
   "source": [
    "swn_counts= fin_data['SWN analysis'].value_counts()\n",
    "swn_counts"
   ]
  },
  {
   "cell_type": "code",
   "execution_count": 24,
   "metadata": {},
   "outputs": [
    {
     "data": {
      "text/plain": [
       "([<matplotlib.patches.Wedge at 0x183bcf21508>,\n",
       "  <matplotlib.patches.Wedge at 0x183bcf25448>,\n",
       "  <matplotlib.patches.Wedge at 0x183bcf260c8>],\n",
       " [Text(-0.23410838641935386, 1.1769423364838767, 'Negative'),\n",
       "  Text(0.14357877740594172, -1.0905893519921306, 'Positive'),\n",
       "  Text(1.0976448112122377, -0.0719435085247544, 'Neutral')],\n",
       " [Text(-0.13656322541128973, 0.6865496962822613, '56.2%'),\n",
       "  Text(0.07831569676687729, -0.5948669192684347, '41.7%'),\n",
       "  Text(0.5987153515703113, -0.039241913740775125, '2.1%')])"
      ]
     },
     "execution_count": 24,
     "metadata": {},
     "output_type": "execute_result"
    },
    {
     "data": {
      "image/png": "[encoded data removed]",
      "text/plain": [
       "<Figure size 720x504 with 1 Axes>"
      ]
     },
     "metadata": {},
     "output_type": "display_data"
    }
   ],
   "source": [
    "swn_counts= fin_data['SWN analysis'].value_counts()\n",
    "plt.figure(figsize=(10, 7))\n",
    "plt.pie(swn_counts.values, labels = swn_counts.index, explode = (0.1, 0, 0), autopct='%1.1f%%', shadow=False)\n",
    "# plt.legend()"
   ]
  },
  {
   "cell_type": "markdown",
   "metadata": {},
   "source": [
    "# Visual representation of TextBlob, VADER, SentiWordNet results"
   ]
  },
  {
   "cell_type": "code",
   "execution_count": 31,
   "metadata": {},
   "outputs": [
    {
     "data": {
      "text/plain": [
       "([<matplotlib.patches.Wedge at 0x183c7a19948>,\n",
       "  <matplotlib.patches.Wedge at 0x183c7a4d948>,\n",
       "  <matplotlib.patches.Wedge at 0x183c7a51e08>],\n",
       " [Text(-0.21459935421774104, 1.0788638084435536, 'Negative'),\n",
       "  Text(0.14357877740594172, -1.0905893519921306, 'Positive'),\n",
       "  Text(1.3471095410332008, -0.08829430591674403, 'Neutral')],\n",
       " [Text(-0.11705419320967692, 0.5884711682419382, '56.2%'),\n",
       "  Text(0.07831569676687729, -0.5948669192684347, '41.7%'),\n",
       "  Text(0.8481800813912743, -0.05559271113276476, '2.1%')])"
      ]
     },
     "execution_count": 31,
     "metadata": {},
     "output_type": "execute_result"
    },
    {
     "data": {
      "image/png": "[encoded data removed]",
      "text/plain": [
       "<Figure size 1080x504 with 3 Axes>"
      ]
     },
     "metadata": {},
     "output_type": "display_data"
    }
   ],
   "source": [
    "import matplotlib.pyplot as plt\n",
    "%matplotlib inline\n",
    "\n",
    "plt.figure(figsize=(15,7))\n",
    "plt.subplot(1,3,1)\n",
    "plt.title(\"TextBlob results\")\n",
    "plt.pie(tb_counts.values, labels = tb_counts.index, explode = (0, 0, 0.25), autopct='%1.1f%%', shadow=False)\n",
    "plt.subplot(1,3,2)\n",
    "plt.title(\"VADER results\")\n",
    "plt.pie(vader_counts.values, labels = vader_counts.index, explode = (0, 0, 0.25), autopct='%1.1f%%', shadow=False)\n",
    "plt.subplot(1,3,3)\n",
    "plt.title(\"SentiWordNet results\")\n",
    "plt.pie(swn_counts.values, labels = swn_counts.index, explode = (0, 0, 0.25), autopct='%1.1f%%', shadow=False)"
   ]
  }
 ],
 "metadata": {
  "kernelspec": {
   "display_name": "Python 3",
   "language": "python",
   "name": "python3"
  },
  "language_info": {
   "codemirror_mode": {
    "name": "ipython",
    "version": 3
   },
   "file_extension": ".py",
   "mimetype": "text/x-python",
   "name": "python",
   "nbconvert_exporter": "python",
   "pygments_lexer": "ipython3",
   "version": "3.7.6"
  }
 },
 "nbformat": 4,
 "nbformat_minor": 4
}
